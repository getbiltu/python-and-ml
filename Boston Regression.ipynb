{
 "cells": [
  {
   "cell_type": "code",
   "execution_count": 78,
   "metadata": {},
   "outputs": [],
   "source": [
    "import pandas as pd\n",
    "import numpy as np\n",
    "import matplotlib.pyplot as plt\n",
    "import seaborn as sns\n",
    "%matplotlib inline"
   ]
  },
  {
   "cell_type": "code",
   "execution_count": 79,
   "metadata": {},
   "outputs": [],
   "source": [
    "boston=pd.read_csv('boston.csv')"
   ]
  },
  {
   "cell_type": "code",
   "execution_count": 80,
   "metadata": {},
   "outputs": [
    {
     "name": "stdout",
     "output_type": "stream",
     "text": [
      "<class 'pandas.core.frame.DataFrame'>\n",
      "RangeIndex: 333 entries, 0 to 332\n",
      "Data columns (total 15 columns):\n",
      "ID         333 non-null int64\n",
      "crim       333 non-null float64\n",
      "zn         333 non-null float64\n",
      "indus      333 non-null float64\n",
      "chas       333 non-null int64\n",
      "nox        333 non-null float64\n",
      "rm         333 non-null float64\n",
      "age        333 non-null float64\n",
      "dis        333 non-null float64\n",
      "rad        333 non-null int64\n",
      "tax        333 non-null int64\n",
      "ptratio    333 non-null float64\n",
      "black      333 non-null float64\n",
      "lstat      333 non-null float64\n",
      "medv       333 non-null float64\n",
      "dtypes: float64(11), int64(4)\n",
      "memory usage: 39.1 KB\n"
     ]
    }
   ],
   "source": [
    "boston.info()"
   ]
  },
  {
   "cell_type": "code",
   "execution_count": 81,
   "metadata": {},
   "outputs": [
    {
     "data": {
      "text/html": [
       "<div>\n",
       "<style scoped>\n",
       "    .dataframe tbody tr th:only-of-type {\n",
       "        vertical-align: middle;\n",
       "    }\n",
       "\n",
       "    .dataframe tbody tr th {\n",
       "        vertical-align: top;\n",
       "    }\n",
       "\n",
       "    .dataframe thead th {\n",
       "        text-align: right;\n",
       "    }\n",
       "</style>\n",
       "<table border=\"1\" class=\"dataframe\">\n",
       "  <thead>\n",
       "    <tr style=\"text-align: right;\">\n",
       "      <th></th>\n",
       "      <th>ID</th>\n",
       "      <th>crim</th>\n",
       "      <th>zn</th>\n",
       "      <th>indus</th>\n",
       "      <th>chas</th>\n",
       "      <th>nox</th>\n",
       "      <th>rm</th>\n",
       "      <th>age</th>\n",
       "      <th>dis</th>\n",
       "      <th>rad</th>\n",
       "      <th>tax</th>\n",
       "      <th>ptratio</th>\n",
       "      <th>black</th>\n",
       "      <th>lstat</th>\n",
       "      <th>medv</th>\n",
       "    </tr>\n",
       "  </thead>\n",
       "  <tbody>\n",
       "    <tr>\n",
       "      <th>0</th>\n",
       "      <td>1</td>\n",
       "      <td>0.00632</td>\n",
       "      <td>18.0</td>\n",
       "      <td>2.31</td>\n",
       "      <td>0</td>\n",
       "      <td>0.538</td>\n",
       "      <td>6.575</td>\n",
       "      <td>65.2</td>\n",
       "      <td>4.09</td>\n",
       "      <td>1</td>\n",
       "      <td>296</td>\n",
       "      <td>15.3</td>\n",
       "      <td>396.9</td>\n",
       "      <td>4.98</td>\n",
       "      <td>24.0</td>\n",
       "    </tr>\n",
       "  </tbody>\n",
       "</table>\n",
       "</div>"
      ],
      "text/plain": [
       "   ID     crim    zn  indus  chas    nox     rm   age   dis  rad  tax  \\\n",
       "0   1  0.00632  18.0   2.31     0  0.538  6.575  65.2  4.09    1  296   \n",
       "\n",
       "   ptratio  black  lstat  medv  \n",
       "0     15.3  396.9   4.98  24.0  "
      ]
     },
     "execution_count": 81,
     "metadata": {},
     "output_type": "execute_result"
    }
   ],
   "source": [
    "boston.head(1)"
   ]
  },
  {
   "cell_type": "code",
   "execution_count": 82,
   "metadata": {},
   "outputs": [
    {
     "data": {
      "text/html": [
       "<div>\n",
       "<style scoped>\n",
       "    .dataframe tbody tr th:only-of-type {\n",
       "        vertical-align: middle;\n",
       "    }\n",
       "\n",
       "    .dataframe tbody tr th {\n",
       "        vertical-align: top;\n",
       "    }\n",
       "\n",
       "    .dataframe thead th {\n",
       "        text-align: right;\n",
       "    }\n",
       "</style>\n",
       "<table border=\"1\" class=\"dataframe\">\n",
       "  <thead>\n",
       "    <tr style=\"text-align: right;\">\n",
       "      <th></th>\n",
       "      <th>ID</th>\n",
       "      <th>crim</th>\n",
       "      <th>zn</th>\n",
       "      <th>indus</th>\n",
       "      <th>chas</th>\n",
       "      <th>nox</th>\n",
       "      <th>rm</th>\n",
       "      <th>age</th>\n",
       "      <th>dis</th>\n",
       "      <th>rad</th>\n",
       "      <th>tax</th>\n",
       "      <th>ptratio</th>\n",
       "      <th>black</th>\n",
       "      <th>lstat</th>\n",
       "      <th>medv</th>\n",
       "    </tr>\n",
       "  </thead>\n",
       "  <tbody>\n",
       "    <tr>\n",
       "      <th>ID</th>\n",
       "      <td>1.000000</td>\n",
       "      <td>0.456312</td>\n",
       "      <td>-0.155639</td>\n",
       "      <td>0.421978</td>\n",
       "      <td>0.007958</td>\n",
       "      <td>0.440185</td>\n",
       "      <td>-0.112790</td>\n",
       "      <td>0.257300</td>\n",
       "      <td>-0.356461</td>\n",
       "      <td>0.707526</td>\n",
       "      <td>0.686246</td>\n",
       "      <td>0.309838</td>\n",
       "      <td>-0.271619</td>\n",
       "      <td>0.281953</td>\n",
       "      <td>-0.221694</td>\n",
       "    </tr>\n",
       "    <tr>\n",
       "      <th>crim</th>\n",
       "      <td>0.456312</td>\n",
       "      <td>1.000000</td>\n",
       "      <td>-0.210913</td>\n",
       "      <td>0.422228</td>\n",
       "      <td>-0.041195</td>\n",
       "      <td>0.463001</td>\n",
       "      <td>-0.310180</td>\n",
       "      <td>0.379034</td>\n",
       "      <td>-0.397067</td>\n",
       "      <td>0.666636</td>\n",
       "      <td>0.617081</td>\n",
       "      <td>0.313409</td>\n",
       "      <td>-0.475796</td>\n",
       "      <td>0.532077</td>\n",
       "      <td>-0.407454</td>\n",
       "    </tr>\n",
       "    <tr>\n",
       "      <th>zn</th>\n",
       "      <td>-0.155639</td>\n",
       "      <td>-0.210913</td>\n",
       "      <td>1.000000</td>\n",
       "      <td>-0.518679</td>\n",
       "      <td>-0.024442</td>\n",
       "      <td>-0.501990</td>\n",
       "      <td>0.328197</td>\n",
       "      <td>-0.544513</td>\n",
       "      <td>0.637142</td>\n",
       "      <td>-0.303663</td>\n",
       "      <td>-0.311180</td>\n",
       "      <td>-0.380449</td>\n",
       "      <td>0.168130</td>\n",
       "      <td>-0.388112</td>\n",
       "      <td>0.344842</td>\n",
       "    </tr>\n",
       "    <tr>\n",
       "      <th>indus</th>\n",
       "      <td>0.421978</td>\n",
       "      <td>0.422228</td>\n",
       "      <td>-0.518679</td>\n",
       "      <td>1.000000</td>\n",
       "      <td>0.037496</td>\n",
       "      <td>0.750087</td>\n",
       "      <td>-0.440365</td>\n",
       "      <td>0.638378</td>\n",
       "      <td>-0.702327</td>\n",
       "      <td>0.569779</td>\n",
       "      <td>0.708313</td>\n",
       "      <td>0.391087</td>\n",
       "      <td>-0.335049</td>\n",
       "      <td>0.614155</td>\n",
       "      <td>-0.473932</td>\n",
       "    </tr>\n",
       "    <tr>\n",
       "      <th>chas</th>\n",
       "      <td>0.007958</td>\n",
       "      <td>-0.041195</td>\n",
       "      <td>-0.024442</td>\n",
       "      <td>0.037496</td>\n",
       "      <td>1.000000</td>\n",
       "      <td>0.080275</td>\n",
       "      <td>0.112251</td>\n",
       "      <td>0.068286</td>\n",
       "      <td>-0.081834</td>\n",
       "      <td>0.007714</td>\n",
       "      <td>-0.021826</td>\n",
       "      <td>-0.125067</td>\n",
       "      <td>0.062029</td>\n",
       "      <td>-0.050055</td>\n",
       "      <td>0.204390</td>\n",
       "    </tr>\n",
       "    <tr>\n",
       "      <th>nox</th>\n",
       "      <td>0.440185</td>\n",
       "      <td>0.463001</td>\n",
       "      <td>-0.501990</td>\n",
       "      <td>0.750087</td>\n",
       "      <td>0.080275</td>\n",
       "      <td>1.000000</td>\n",
       "      <td>-0.338515</td>\n",
       "      <td>0.736000</td>\n",
       "      <td>-0.769364</td>\n",
       "      <td>0.612180</td>\n",
       "      <td>0.670722</td>\n",
       "      <td>0.192513</td>\n",
       "      <td>-0.369416</td>\n",
       "      <td>0.598874</td>\n",
       "      <td>-0.413054</td>\n",
       "    </tr>\n",
       "    <tr>\n",
       "      <th>rm</th>\n",
       "      <td>-0.112790</td>\n",
       "      <td>-0.310180</td>\n",
       "      <td>0.328197</td>\n",
       "      <td>-0.440365</td>\n",
       "      <td>0.112251</td>\n",
       "      <td>-0.338515</td>\n",
       "      <td>1.000000</td>\n",
       "      <td>-0.248573</td>\n",
       "      <td>0.269191</td>\n",
       "      <td>-0.272783</td>\n",
       "      <td>-0.356987</td>\n",
       "      <td>-0.366927</td>\n",
       "      <td>0.155202</td>\n",
       "      <td>-0.615747</td>\n",
       "      <td>0.689598</td>\n",
       "    </tr>\n",
       "    <tr>\n",
       "      <th>age</th>\n",
       "      <td>0.257300</td>\n",
       "      <td>0.379034</td>\n",
       "      <td>-0.544513</td>\n",
       "      <td>0.638378</td>\n",
       "      <td>0.068286</td>\n",
       "      <td>0.736000</td>\n",
       "      <td>-0.248573</td>\n",
       "      <td>1.000000</td>\n",
       "      <td>-0.764208</td>\n",
       "      <td>0.447380</td>\n",
       "      <td>0.511893</td>\n",
       "      <td>0.259293</td>\n",
       "      <td>-0.268054</td>\n",
       "      <td>0.588834</td>\n",
       "      <td>-0.358888</td>\n",
       "    </tr>\n",
       "    <tr>\n",
       "      <th>dis</th>\n",
       "      <td>-0.356461</td>\n",
       "      <td>-0.397067</td>\n",
       "      <td>0.637142</td>\n",
       "      <td>-0.702327</td>\n",
       "      <td>-0.081834</td>\n",
       "      <td>-0.769364</td>\n",
       "      <td>0.269191</td>\n",
       "      <td>-0.764208</td>\n",
       "      <td>1.000000</td>\n",
       "      <td>-0.477610</td>\n",
       "      <td>-0.529539</td>\n",
       "      <td>-0.231101</td>\n",
       "      <td>0.284374</td>\n",
       "      <td>-0.505939</td>\n",
       "      <td>0.249422</td>\n",
       "    </tr>\n",
       "    <tr>\n",
       "      <th>rad</th>\n",
       "      <td>0.707526</td>\n",
       "      <td>0.666636</td>\n",
       "      <td>-0.303663</td>\n",
       "      <td>0.569779</td>\n",
       "      <td>0.007714</td>\n",
       "      <td>0.612180</td>\n",
       "      <td>-0.272783</td>\n",
       "      <td>0.447380</td>\n",
       "      <td>-0.477610</td>\n",
       "      <td>1.000000</td>\n",
       "      <td>0.903562</td>\n",
       "      <td>0.470849</td>\n",
       "      <td>-0.406405</td>\n",
       "      <td>0.484568</td>\n",
       "      <td>-0.352251</td>\n",
       "    </tr>\n",
       "    <tr>\n",
       "      <th>tax</th>\n",
       "      <td>0.686246</td>\n",
       "      <td>0.617081</td>\n",
       "      <td>-0.311180</td>\n",
       "      <td>0.708313</td>\n",
       "      <td>-0.021826</td>\n",
       "      <td>0.670722</td>\n",
       "      <td>-0.356987</td>\n",
       "      <td>0.511893</td>\n",
       "      <td>-0.529539</td>\n",
       "      <td>0.903562</td>\n",
       "      <td>1.000000</td>\n",
       "      <td>0.467437</td>\n",
       "      <td>-0.406477</td>\n",
       "      <td>0.544485</td>\n",
       "      <td>-0.448078</td>\n",
       "    </tr>\n",
       "    <tr>\n",
       "      <th>ptratio</th>\n",
       "      <td>0.309838</td>\n",
       "      <td>0.313409</td>\n",
       "      <td>-0.380449</td>\n",
       "      <td>0.391087</td>\n",
       "      <td>-0.125067</td>\n",
       "      <td>0.192513</td>\n",
       "      <td>-0.366927</td>\n",
       "      <td>0.259293</td>\n",
       "      <td>-0.231101</td>\n",
       "      <td>0.470849</td>\n",
       "      <td>0.467437</td>\n",
       "      <td>1.000000</td>\n",
       "      <td>-0.164614</td>\n",
       "      <td>0.374802</td>\n",
       "      <td>-0.481376</td>\n",
       "    </tr>\n",
       "    <tr>\n",
       "      <th>black</th>\n",
       "      <td>-0.271619</td>\n",
       "      <td>-0.475796</td>\n",
       "      <td>0.168130</td>\n",
       "      <td>-0.335049</td>\n",
       "      <td>0.062029</td>\n",
       "      <td>-0.369416</td>\n",
       "      <td>0.155202</td>\n",
       "      <td>-0.268054</td>\n",
       "      <td>0.284374</td>\n",
       "      <td>-0.406405</td>\n",
       "      <td>-0.406477</td>\n",
       "      <td>-0.164614</td>\n",
       "      <td>1.000000</td>\n",
       "      <td>-0.356693</td>\n",
       "      <td>0.336660</td>\n",
       "    </tr>\n",
       "    <tr>\n",
       "      <th>lstat</th>\n",
       "      <td>0.281953</td>\n",
       "      <td>0.532077</td>\n",
       "      <td>-0.388112</td>\n",
       "      <td>0.614155</td>\n",
       "      <td>-0.050055</td>\n",
       "      <td>0.598874</td>\n",
       "      <td>-0.615747</td>\n",
       "      <td>0.588834</td>\n",
       "      <td>-0.505939</td>\n",
       "      <td>0.484568</td>\n",
       "      <td>0.544485</td>\n",
       "      <td>0.374802</td>\n",
       "      <td>-0.356693</td>\n",
       "      <td>1.000000</td>\n",
       "      <td>-0.738600</td>\n",
       "    </tr>\n",
       "    <tr>\n",
       "      <th>medv</th>\n",
       "      <td>-0.221694</td>\n",
       "      <td>-0.407454</td>\n",
       "      <td>0.344842</td>\n",
       "      <td>-0.473932</td>\n",
       "      <td>0.204390</td>\n",
       "      <td>-0.413054</td>\n",
       "      <td>0.689598</td>\n",
       "      <td>-0.358888</td>\n",
       "      <td>0.249422</td>\n",
       "      <td>-0.352251</td>\n",
       "      <td>-0.448078</td>\n",
       "      <td>-0.481376</td>\n",
       "      <td>0.336660</td>\n",
       "      <td>-0.738600</td>\n",
       "      <td>1.000000</td>\n",
       "    </tr>\n",
       "  </tbody>\n",
       "</table>\n",
       "</div>"
      ],
      "text/plain": [
       "               ID      crim        zn     indus      chas       nox        rm  \\\n",
       "ID       1.000000  0.456312 -0.155639  0.421978  0.007958  0.440185 -0.112790   \n",
       "crim     0.456312  1.000000 -0.210913  0.422228 -0.041195  0.463001 -0.310180   \n",
       "zn      -0.155639 -0.210913  1.000000 -0.518679 -0.024442 -0.501990  0.328197   \n",
       "indus    0.421978  0.422228 -0.518679  1.000000  0.037496  0.750087 -0.440365   \n",
       "chas     0.007958 -0.041195 -0.024442  0.037496  1.000000  0.080275  0.112251   \n",
       "nox      0.440185  0.463001 -0.501990  0.750087  0.080275  1.000000 -0.338515   \n",
       "rm      -0.112790 -0.310180  0.328197 -0.440365  0.112251 -0.338515  1.000000   \n",
       "age      0.257300  0.379034 -0.544513  0.638378  0.068286  0.736000 -0.248573   \n",
       "dis     -0.356461 -0.397067  0.637142 -0.702327 -0.081834 -0.769364  0.269191   \n",
       "rad      0.707526  0.666636 -0.303663  0.569779  0.007714  0.612180 -0.272783   \n",
       "tax      0.686246  0.617081 -0.311180  0.708313 -0.021826  0.670722 -0.356987   \n",
       "ptratio  0.309838  0.313409 -0.380449  0.391087 -0.125067  0.192513 -0.366927   \n",
       "black   -0.271619 -0.475796  0.168130 -0.335049  0.062029 -0.369416  0.155202   \n",
       "lstat    0.281953  0.532077 -0.388112  0.614155 -0.050055  0.598874 -0.615747   \n",
       "medv    -0.221694 -0.407454  0.344842 -0.473932  0.204390 -0.413054  0.689598   \n",
       "\n",
       "              age       dis       rad       tax   ptratio     black     lstat  \\\n",
       "ID       0.257300 -0.356461  0.707526  0.686246  0.309838 -0.271619  0.281953   \n",
       "crim     0.379034 -0.397067  0.666636  0.617081  0.313409 -0.475796  0.532077   \n",
       "zn      -0.544513  0.637142 -0.303663 -0.311180 -0.380449  0.168130 -0.388112   \n",
       "indus    0.638378 -0.702327  0.569779  0.708313  0.391087 -0.335049  0.614155   \n",
       "chas     0.068286 -0.081834  0.007714 -0.021826 -0.125067  0.062029 -0.050055   \n",
       "nox      0.736000 -0.769364  0.612180  0.670722  0.192513 -0.369416  0.598874   \n",
       "rm      -0.248573  0.269191 -0.272783 -0.356987 -0.366927  0.155202 -0.615747   \n",
       "age      1.000000 -0.764208  0.447380  0.511893  0.259293 -0.268054  0.588834   \n",
       "dis     -0.764208  1.000000 -0.477610 -0.529539 -0.231101  0.284374 -0.505939   \n",
       "rad      0.447380 -0.477610  1.000000  0.903562  0.470849 -0.406405  0.484568   \n",
       "tax      0.511893 -0.529539  0.903562  1.000000  0.467437 -0.406477  0.544485   \n",
       "ptratio  0.259293 -0.231101  0.470849  0.467437  1.000000 -0.164614  0.374802   \n",
       "black   -0.268054  0.284374 -0.406405 -0.406477 -0.164614  1.000000 -0.356693   \n",
       "lstat    0.588834 -0.505939  0.484568  0.544485  0.374802 -0.356693  1.000000   \n",
       "medv    -0.358888  0.249422 -0.352251 -0.448078 -0.481376  0.336660 -0.738600   \n",
       "\n",
       "             medv  \n",
       "ID      -0.221694  \n",
       "crim    -0.407454  \n",
       "zn       0.344842  \n",
       "indus   -0.473932  \n",
       "chas     0.204390  \n",
       "nox     -0.413054  \n",
       "rm       0.689598  \n",
       "age     -0.358888  \n",
       "dis      0.249422  \n",
       "rad     -0.352251  \n",
       "tax     -0.448078  \n",
       "ptratio -0.481376  \n",
       "black    0.336660  \n",
       "lstat   -0.738600  \n",
       "medv     1.000000  "
      ]
     },
     "execution_count": 82,
     "metadata": {},
     "output_type": "execute_result"
    }
   ],
   "source": [
    "corr=boston.corr()#finding co relation to keep related columns only\n",
    "corr"
   ]
  },
  {
   "cell_type": "code",
   "execution_count": 83,
   "metadata": {},
   "outputs": [
    {
     "data": {
      "text/plain": [
       "medv       1.000000\n",
       "rm         0.689598\n",
       "zn         0.344842\n",
       "black      0.336660\n",
       "dis        0.249422\n",
       "chas       0.204390\n",
       "ID        -0.221694\n",
       "rad       -0.352251\n",
       "age       -0.358888\n",
       "crim      -0.407454\n",
       "nox       -0.413054\n",
       "tax       -0.448078\n",
       "indus     -0.473932\n",
       "ptratio   -0.481376\n",
       "lstat     -0.738600\n",
       "Name: medv, dtype: float64"
      ]
     },
     "execution_count": 83,
     "metadata": {},
     "output_type": "execute_result"
    }
   ],
   "source": [
    "corr['medv'].sort_values(ascending=False)## will take only positive values related with medv"
   ]
  },
  {
   "cell_type": "code",
   "execution_count": 84,
   "metadata": {},
   "outputs": [],
   "source": [
    "boston=boston[['rm','zn','black','dis','chas','medv']]"
   ]
  },
  {
   "cell_type": "code",
   "execution_count": 85,
   "metadata": {},
   "outputs": [],
   "source": [
    "from sklearn.linear_model import LinearRegression\n",
    "regressor=LinearRegression()"
   ]
  },
  {
   "cell_type": "code",
   "execution_count": 86,
   "metadata": {},
   "outputs": [
    {
     "data": {
      "text/plain": [
       "333"
      ]
     },
     "execution_count": 86,
     "metadata": {},
     "output_type": "execute_result"
    }
   ],
   "source": [
    "len(boston)"
   ]
  },
  {
   "cell_type": "code",
   "execution_count": 87,
   "metadata": {},
   "outputs": [],
   "source": [
    "X=boston.iloc[:,:-1]\n",
    "y=boston.iloc[:,-1]"
   ]
  },
  {
   "cell_type": "code",
   "execution_count": 88,
   "metadata": {},
   "outputs": [],
   "source": [
    "from sklearn.cross_validation import train_test_split\n",
    "X_train,X_test,y_train,y_test=train_test_split(X,y,test_size=.2,random_state=2)"
   ]
  },
  {
   "cell_type": "code",
   "execution_count": 89,
   "metadata": {},
   "outputs": [
    {
     "data": {
      "text/plain": [
       "60     22.2\n",
       "126    39.8\n",
       "240    27.5\n",
       "183    24.4\n",
       "258     9.7\n",
       "Name: medv, dtype: float64"
      ]
     },
     "execution_count": 89,
     "metadata": {},
     "output_type": "execute_result"
    }
   ],
   "source": [
    "y_train.head()"
   ]
  },
  {
   "cell_type": "code",
   "execution_count": 90,
   "metadata": {},
   "outputs": [],
   "source": [
    "regressor.fit(X_train,y_train)\n",
    "y_pred=regressor.predict(X_test)"
   ]
  },
  {
   "cell_type": "code",
   "execution_count": 91,
   "metadata": {},
   "outputs": [
    {
     "data": {
      "text/plain": [
       "array([ 7.17486313,  0.06185131,  0.02306336, -0.29380008,  4.2377105 ])"
      ]
     },
     "execution_count": 91,
     "metadata": {},
     "output_type": "execute_result"
    }
   ],
   "source": [
    "regressor.coef_##to view co efficient y=mx+b>>>>>>>>>>mx1+nx2+lx3+ox4+px5"
   ]
  },
  {
   "cell_type": "code",
   "execution_count": 92,
   "metadata": {},
   "outputs": [
    {
     "data": {
      "text/plain": [
       "-30.53801901499505"
      ]
     },
     "execution_count": 92,
     "metadata": {},
     "output_type": "execute_result"
    }
   ],
   "source": [
    "regressor.intercept_"
   ]
  },
  {
   "cell_type": "code",
   "execution_count": 93,
   "metadata": {},
   "outputs": [
    {
     "data": {
      "text/plain": [
       "<matplotlib.collections.PathCollection at 0x2941e4847f0>"
      ]
     },
     "execution_count": 93,
     "metadata": {},
     "output_type": "execute_result"
    },
    {
     "data": {
      "image/png": "[encoded data removed]",
      "text/plain": [
       "<Figure size 432x288 with 1 Axes>"
      ]
     },
     "metadata": {},
     "output_type": "display_data"
    }
   ],
   "source": [
    "plt.scatter(y_test,y_pred)"
   ]
  },
  {
   "cell_type": "code",
   "execution_count": 94,
   "metadata": {},
   "outputs": [
    {
     "name": "stderr",
     "output_type": "stream",
     "text": [
      "D:\\Installed_Apps\\Anaconda3\\lib\\site-packages\\matplotlib\\axes\\_axes.py:6462: UserWarning: The 'normed' kwarg is deprecated, and has been replaced by the 'density' kwarg.\n",
      "  warnings.warn(\"The 'normed' kwarg is deprecated, and has been \"\n"
     ]
    },
    {
     "data": {
      "text/plain": [
       "<matplotlib.axes._subplots.AxesSubplot at 0x2941ebfb278>"
      ]
     },
     "execution_count": 94,
     "metadata": {},
     "output_type": "execute_result"
    },
    {
     "data": {
      "image/png": "[encoded data removed]",
      "text/plain": [
       "<Figure size 432x288 with 1 Axes>"
      ]
     },
     "metadata": {},
     "output_type": "display_data"
    }
   ],
   "source": [
    "sns.distplot((y_test-y_pred))"
   ]
  },
  {
   "cell_type": "code",
   "execution_count": 95,
   "metadata": {},
   "outputs": [
    {
     "data": {
      "text/plain": [
       "0.7283019176572132"
      ]
     },
     "execution_count": 95,
     "metadata": {},
     "output_type": "execute_result"
    }
   ],
   "source": [
    "from sklearn import metrics #### r2 score\n",
    "metrics.r2_score(y_test,y_pred)"
   ]
  },
  {
   "cell_type": "code",
   "execution_count": 96,
   "metadata": {},
   "outputs": [
    {
     "data": {
      "text/plain": [
       "DecisionTreeRegressor(criterion='mse', max_depth=None, max_features=None,\n",
       "           max_leaf_nodes=None, min_impurity_decrease=0.0,\n",
       "           min_impurity_split=None, min_samples_leaf=1,\n",
       "           min_samples_split=2, min_weight_fraction_leaf=0.0,\n",
       "           presort=False, random_state=None, splitter='best')"
      ]
     },
     "execution_count": 96,
     "metadata": {},
     "output_type": "execute_result"
    }
   ],
   "source": [
    "from sklearn.tree import DecisionTreeRegressor\n",
    "tree=DecisionTreeRegressor()\n",
    "tree.fit(X_train,y_train)"
   ]
  },
  {
   "cell_type": "code",
   "execution_count": 97,
   "metadata": {},
   "outputs": [],
   "source": [
    "y_pred=tree.predict(X_test)"
   ]
  },
  {
   "cell_type": "code",
   "execution_count": 98,
   "metadata": {},
   "outputs": [
    {
     "data": {
      "text/plain": [
       "<matplotlib.collections.PathCollection at 0x2941ec95e80>"
      ]
     },
     "execution_count": 98,
     "metadata": {},
     "output_type": "execute_result"
    },
    {
     "data": {
      "image/png": "[encoded data removed]",
      "text/plain": [
       "<Figure size 432x288 with 1 Axes>"
      ]
     },
     "metadata": {},
     "output_type": "display_data"
    }
   ],
   "source": [
    "plt.scatter(y_test,y_pred)"
   ]
  },
  {
   "cell_type": "code",
   "execution_count": 99,
   "metadata": {},
   "outputs": [
    {
     "name": "stderr",
     "output_type": "stream",
     "text": [
      "D:\\Installed_Apps\\Anaconda3\\lib\\site-packages\\matplotlib\\axes\\_axes.py:6462: UserWarning: The 'normed' kwarg is deprecated, and has been replaced by the 'density' kwarg.\n",
      "  warnings.warn(\"The 'normed' kwarg is deprecated, and has been \"\n"
     ]
    },
    {
     "data": {
      "text/plain": [
       "<matplotlib.axes._subplots.AxesSubplot at 0x2941ecb9ba8>"
      ]
     },
     "execution_count": 99,
     "metadata": {},
     "output_type": "execute_result"
    },
    {
     "data": {
      "image/png": "[encoded data removed]",
      "text/plain": [
       "<Figure size 432x288 with 1 Axes>"
      ]
     },
     "metadata": {},
     "output_type": "display_data"
    }
   ],
   "source": [
    "sns.distplot((y_test-y_pred))"
   ]
  },
  {
   "cell_type": "code",
   "execution_count": 100,
   "metadata": {},
   "outputs": [
    {
     "data": {
      "text/plain": [
       "0.6777881177622394"
      ]
     },
     "execution_count": 100,
     "metadata": {},
     "output_type": "execute_result"
    }
   ],
   "source": [
    "from sklearn import metrics #### r2 score\n",
    "metrics.r2_score(y_test,y_pred)"
   ]
  },
  {
   "cell_type": "code",
   "execution_count": 106,
   "metadata": {},
   "outputs": [],
   "source": [
    "from sklearn.ensemble import RandomForestRegressor\n",
    "\n",
    "forest=RandomForestRegressor(n_estimators=20)"
   ]
  },
  {
   "cell_type": "code",
   "execution_count": 107,
   "metadata": {},
   "outputs": [],
   "source": [
    "forest.fit(X_train,y_train)\n",
    "y_pred=forest.predict(X_test)"
   ]
  },
  {
   "cell_type": "code",
   "execution_count": 108,
   "metadata": {},
   "outputs": [
    {
     "data": {
      "text/plain": [
       "<matplotlib.collections.PathCollection at 0x2941ee32f60>"
      ]
     },
     "execution_count": 108,
     "metadata": {},
     "output_type": "execute_result"
    },
    {
     "data": {
      "image/png": "[encoded data removed]",
      "text/plain": [
       "<Figure size 432x288 with 1 Axes>"
      ]
     },
     "metadata": {},
     "output_type": "display_data"
    }
   ],
   "source": [
    "plt.scatter(y_test,y_pred)"
   ]
  },
  {
   "cell_type": "code",
   "execution_count": 109,
   "metadata": {},
   "outputs": [
    {
     "name": "stderr",
     "output_type": "stream",
     "text": [
      "D:\\Installed_Apps\\Anaconda3\\lib\\site-packages\\matplotlib\\axes\\_axes.py:6462: UserWarning: The 'normed' kwarg is deprecated, and has been replaced by the 'density' kwarg.\n",
      "  warnings.warn(\"The 'normed' kwarg is deprecated, and has been \"\n"
     ]
    },
    {
     "data": {
      "text/plain": [
       "<matplotlib.axes._subplots.AxesSubplot at 0x2941ee6bcc0>"
      ]
     },
     "execution_count": 109,
     "metadata": {},
     "output_type": "execute_result"
    },
    {
     "data": {
      "image/png": "[encoded data removed]",
      "text/plain": [
       "<Figure size 432x288 with 1 Axes>"
      ]
     },
     "metadata": {},
     "output_type": "display_data"
    }
   ],
   "source": [
    "sns.distplot((y_test-y_pred))"
   ]
  },
  {
   "cell_type": "code",
   "execution_count": 110,
   "metadata": {},
   "outputs": [
    {
     "data": {
      "text/plain": [
       "0.8030570610227594"
      ]
     },
     "execution_count": 110,
     "metadata": {},
     "output_type": "execute_result"
    }
   ],
   "source": [
    "from sklearn import metrics #### r2 score\n",
    "metrics.r2_score(y_test,y_pred)"
   ]
  },
  {
   "cell_type": "code",
   "execution_count": null,
   "metadata": {},
   "outputs": [],
   "source": []
  },
  {
   "cell_type": "code",
   "execution_count": null,
   "metadata": {},
   "outputs": [],
   "source": []
  }
 ],
 "metadata": {
  "kernelspec": {
   "display_name": "Python 3",
   "language": "python",
   "name": "python3"
  },
  "language_info": {
   "codemirror_mode": {
    "name": "ipython",
    "version": 3
   },
   "file_extension": ".py",
   "mimetype": "text/x-python",
   "name": "python",
   "nbconvert_exporter": "python",
   "pygments_lexer": "ipython3",
   "version": "3.6.5"
  }
 },
 "nbformat": 4,
 "nbformat_minor": 2
}
